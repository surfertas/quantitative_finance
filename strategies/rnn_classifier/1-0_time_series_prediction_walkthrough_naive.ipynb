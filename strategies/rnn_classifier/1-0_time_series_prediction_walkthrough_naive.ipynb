{
 "cells": [
  {
   "cell_type": "code",
   "execution_count": 130,
   "metadata": {},
   "outputs": [],
   "source": [
    "import pandas as pd # 0.21.0\n",
    "import numpy as np\n",
    "from time import time\n",
    "\n",
    "import scipy\n",
    "from scipy import stats\n",
    "import matplotlib.pyplot as plt\n",
    "\n",
    "import quandl"
   ]
  },
  {
   "cell_type": "code",
   "execution_count": 131,
   "metadata": {},
   "outputs": [],
   "source": [
    "np.random.seed(100)\n",
    "quandl.ApiConfig.api_key = \"2iPu61nT4WXex2sh1zsS\""
   ]
  },
  {
   "cell_type": "code",
   "execution_count": 132,
   "metadata": {},
   "outputs": [],
   "source": [
    "def get_returns(ticker, start, end):\n",
    "    try:\n",
    "        df = quandl.get(\"WIKI/\"+ticker, start_date=start, end_date=end)\n",
    "    except Exception as e:\n",
    "        print(\"Error in getting stock data: {}\".format(e))\n",
    "\n",
    "    df = pd.DataFrame(df['Adj. Close'] )\n",
    "    df = pre_process(df)\n",
    "    del df['Adj. Close']\n",
    "    return df\n",
    "\n",
    "def pre_process(df):\n",
    "    df[\"log_returns\"] =  np.log(df/df.shift(1))\n",
    "    df_index = df.index[0:-1]\n",
    "    df = df[1:]\n",
    "    df.index = df_index\n",
    "    return df"
   ]
  },
  {
   "cell_type": "code",
   "execution_count": 133,
   "metadata": {},
   "outputs": [],
   "source": [
    "df = get_returns(\"AAPL\", \"10-01-14\", \"10-10-17\")"
   ]
  },
  {
   "cell_type": "code",
   "execution_count": 134,
   "metadata": {},
   "outputs": [
    {
     "data": {
      "text/html": [
       "<div>\n",
       "<style scoped>\n",
       "    .dataframe tbody tr th:only-of-type {\n",
       "        vertical-align: middle;\n",
       "    }\n",
       "\n",
       "    .dataframe tbody tr th {\n",
       "        vertical-align: top;\n",
       "    }\n",
       "\n",
       "    .dataframe thead th {\n",
       "        text-align: right;\n",
       "    }\n",
       "</style>\n",
       "<table border=\"1\" class=\"dataframe\">\n",
       "  <thead>\n",
       "    <tr style=\"text-align: right;\">\n",
       "      <th></th>\n",
       "      <th>log_returns</th>\n",
       "    </tr>\n",
       "    <tr>\n",
       "      <th>Date</th>\n",
       "      <th></th>\n",
       "    </tr>\n",
       "  </thead>\n",
       "  <tbody>\n",
       "    <tr>\n",
       "      <th>2010-01-14</th>\n",
       "      <td>-0.016853</td>\n",
       "    </tr>\n",
       "    <tr>\n",
       "      <th>2010-01-15</th>\n",
       "      <td>0.043288</td>\n",
       "    </tr>\n",
       "    <tr>\n",
       "      <th>2010-01-19</th>\n",
       "      <td>-0.015536</td>\n",
       "    </tr>\n",
       "    <tr>\n",
       "      <th>2010-01-20</th>\n",
       "      <td>-0.017404</td>\n",
       "    </tr>\n",
       "    <tr>\n",
       "      <th>2010-01-21</th>\n",
       "      <td>-0.050881</td>\n",
       "    </tr>\n",
       "  </tbody>\n",
       "</table>\n",
       "</div>"
      ],
      "text/plain": [
       "            log_returns\n",
       "Date                   \n",
       "2010-01-14    -0.016853\n",
       "2010-01-15     0.043288\n",
       "2010-01-19    -0.015536\n",
       "2010-01-20    -0.017404\n",
       "2010-01-21    -0.050881"
      ]
     },
     "execution_count": 134,
     "metadata": {},
     "output_type": "execute_result"
    }
   ],
   "source": [
    "df.head()"
   ]
  },
  {
   "cell_type": "markdown",
   "metadata": {},
   "source": [
    "### Create lagged features"
   ]
  },
  {
   "cell_type": "code",
   "execution_count": 159,
   "metadata": {},
   "outputs": [],
   "source": [
    "\n",
    "steps = 20\n",
    "lags_df = (pd.concat(\n",
    "    [df.log_returns.shift(i) for i in range(steps)],\n",
    "    axis=1,\n",
    "    keys=['log_returns'] + ['log_returns_L%s' % i for i in range(1, steps)]\n",
    ").dropna()\n",
    ")\n",
    "# To ensure that only past frames are used to predict current steering.\n",
    "# (e.g to predict target at t, we use t-1,t-2, etc.)\n",
    "lags_df = lags_df.drop(['log_returns'], axis=1)\n",
    "final_df = pd.merge(df, lags_df, left_index=True, right_index=True)"
   ]
  },
  {
   "cell_type": "code",
   "execution_count": 160,
   "metadata": {},
   "outputs": [
    {
     "data": {
      "text/html": [
       "<div>\n",
       "<style scoped>\n",
       "    .dataframe tbody tr th:only-of-type {\n",
       "        vertical-align: middle;\n",
       "    }\n",
       "\n",
       "    .dataframe tbody tr th {\n",
       "        vertical-align: top;\n",
       "    }\n",
       "\n",
       "    .dataframe thead th {\n",
       "        text-align: right;\n",
       "    }\n",
       "</style>\n",
       "<table border=\"1\" class=\"dataframe\">\n",
       "  <thead>\n",
       "    <tr style=\"text-align: right;\">\n",
       "      <th></th>\n",
       "      <th>log_returns</th>\n",
       "      <th>log_returns_L1</th>\n",
       "      <th>log_returns_L2</th>\n",
       "      <th>log_returns_L3</th>\n",
       "      <th>log_returns_L4</th>\n",
       "      <th>log_returns_L5</th>\n",
       "      <th>log_returns_L6</th>\n",
       "      <th>log_returns_L7</th>\n",
       "      <th>log_returns_L8</th>\n",
       "      <th>log_returns_L9</th>\n",
       "      <th>log_returns_L10</th>\n",
       "      <th>log_returns_L11</th>\n",
       "      <th>log_returns_L12</th>\n",
       "      <th>log_returns_L13</th>\n",
       "      <th>log_returns_L14</th>\n",
       "      <th>log_returns_L15</th>\n",
       "      <th>log_returns_L16</th>\n",
       "      <th>log_returns_L17</th>\n",
       "      <th>log_returns_L18</th>\n",
       "      <th>log_returns_L19</th>\n",
       "    </tr>\n",
       "    <tr>\n",
       "      <th>Date</th>\n",
       "      <th></th>\n",
       "      <th></th>\n",
       "      <th></th>\n",
       "      <th></th>\n",
       "      <th></th>\n",
       "      <th></th>\n",
       "      <th></th>\n",
       "      <th></th>\n",
       "      <th></th>\n",
       "      <th></th>\n",
       "      <th></th>\n",
       "      <th></th>\n",
       "      <th></th>\n",
       "      <th></th>\n",
       "      <th></th>\n",
       "      <th></th>\n",
       "      <th></th>\n",
       "      <th></th>\n",
       "      <th></th>\n",
       "      <th></th>\n",
       "    </tr>\n",
       "  </thead>\n",
       "  <tbody>\n",
       "    <tr>\n",
       "      <th>2010-02-11</th>\n",
       "      <td>0.008570</td>\n",
       "      <td>0.018051</td>\n",
       "      <td>-0.005489</td>\n",
       "      <td>0.010607</td>\n",
       "      <td>-0.006879</td>\n",
       "      <td>0.017600</td>\n",
       "      <td>-0.036704</td>\n",
       "      <td>0.017060</td>\n",
       "      <td>0.005786</td>\n",
       "      <td>0.013791</td>\n",
       "      <td>-0.036938</td>\n",
       "      <td>-0.042219</td>\n",
       "      <td>0.009395</td>\n",
       "      <td>0.014009</td>\n",
       "      <td>0.026572</td>\n",
       "      <td>-0.050881</td>\n",
       "      <td>-0.017404</td>\n",
       "      <td>-0.015536</td>\n",
       "      <td>0.043288</td>\n",
       "      <td>-0.016853</td>\n",
       "    </tr>\n",
       "    <tr>\n",
       "      <th>2010-02-12</th>\n",
       "      <td>0.014959</td>\n",
       "      <td>0.008570</td>\n",
       "      <td>0.018051</td>\n",
       "      <td>-0.005489</td>\n",
       "      <td>0.010607</td>\n",
       "      <td>-0.006879</td>\n",
       "      <td>0.017600</td>\n",
       "      <td>-0.036704</td>\n",
       "      <td>0.017060</td>\n",
       "      <td>0.005786</td>\n",
       "      <td>0.013791</td>\n",
       "      <td>-0.036938</td>\n",
       "      <td>-0.042219</td>\n",
       "      <td>0.009395</td>\n",
       "      <td>0.014009</td>\n",
       "      <td>0.026572</td>\n",
       "      <td>-0.050881</td>\n",
       "      <td>-0.017404</td>\n",
       "      <td>-0.015536</td>\n",
       "      <td>0.043288</td>\n",
       "    </tr>\n",
       "    <tr>\n",
       "      <th>2010-02-16</th>\n",
       "      <td>-0.004188</td>\n",
       "      <td>0.014959</td>\n",
       "      <td>0.008570</td>\n",
       "      <td>0.018051</td>\n",
       "      <td>-0.005489</td>\n",
       "      <td>0.010607</td>\n",
       "      <td>-0.006879</td>\n",
       "      <td>0.017600</td>\n",
       "      <td>-0.036704</td>\n",
       "      <td>0.017060</td>\n",
       "      <td>0.005786</td>\n",
       "      <td>0.013791</td>\n",
       "      <td>-0.036938</td>\n",
       "      <td>-0.042219</td>\n",
       "      <td>0.009395</td>\n",
       "      <td>0.014009</td>\n",
       "      <td>0.026572</td>\n",
       "      <td>-0.050881</td>\n",
       "      <td>-0.017404</td>\n",
       "      <td>-0.015536</td>\n",
       "    </tr>\n",
       "    <tr>\n",
       "      <th>2010-02-17</th>\n",
       "      <td>0.001864</td>\n",
       "      <td>-0.004188</td>\n",
       "      <td>0.014959</td>\n",
       "      <td>0.008570</td>\n",
       "      <td>0.018051</td>\n",
       "      <td>-0.005489</td>\n",
       "      <td>0.010607</td>\n",
       "      <td>-0.006879</td>\n",
       "      <td>0.017600</td>\n",
       "      <td>-0.036704</td>\n",
       "      <td>0.017060</td>\n",
       "      <td>0.005786</td>\n",
       "      <td>0.013791</td>\n",
       "      <td>-0.036938</td>\n",
       "      <td>-0.042219</td>\n",
       "      <td>0.009395</td>\n",
       "      <td>0.014009</td>\n",
       "      <td>0.026572</td>\n",
       "      <td>-0.050881</td>\n",
       "      <td>-0.017404</td>\n",
       "    </tr>\n",
       "    <tr>\n",
       "      <th>2010-02-18</th>\n",
       "      <td>-0.006219</td>\n",
       "      <td>0.001864</td>\n",
       "      <td>-0.004188</td>\n",
       "      <td>0.014959</td>\n",
       "      <td>0.008570</td>\n",
       "      <td>0.018051</td>\n",
       "      <td>-0.005489</td>\n",
       "      <td>0.010607</td>\n",
       "      <td>-0.006879</td>\n",
       "      <td>0.017600</td>\n",
       "      <td>-0.036704</td>\n",
       "      <td>0.017060</td>\n",
       "      <td>0.005786</td>\n",
       "      <td>0.013791</td>\n",
       "      <td>-0.036938</td>\n",
       "      <td>-0.042219</td>\n",
       "      <td>0.009395</td>\n",
       "      <td>0.014009</td>\n",
       "      <td>0.026572</td>\n",
       "      <td>-0.050881</td>\n",
       "    </tr>\n",
       "  </tbody>\n",
       "</table>\n",
       "</div>"
      ],
      "text/plain": [
       "            log_returns  log_returns_L1  log_returns_L2  log_returns_L3  \\\n",
       "Date                                                                      \n",
       "2010-02-11     0.008570        0.018051       -0.005489        0.010607   \n",
       "2010-02-12     0.014959        0.008570        0.018051       -0.005489   \n",
       "2010-02-16    -0.004188        0.014959        0.008570        0.018051   \n",
       "2010-02-17     0.001864       -0.004188        0.014959        0.008570   \n",
       "2010-02-18    -0.006219        0.001864       -0.004188        0.014959   \n",
       "\n",
       "            log_returns_L4  log_returns_L5  log_returns_L6  log_returns_L7  \\\n",
       "Date                                                                         \n",
       "2010-02-11       -0.006879        0.017600       -0.036704        0.017060   \n",
       "2010-02-12        0.010607       -0.006879        0.017600       -0.036704   \n",
       "2010-02-16       -0.005489        0.010607       -0.006879        0.017600   \n",
       "2010-02-17        0.018051       -0.005489        0.010607       -0.006879   \n",
       "2010-02-18        0.008570        0.018051       -0.005489        0.010607   \n",
       "\n",
       "            log_returns_L8  log_returns_L9  log_returns_L10  log_returns_L11  \\\n",
       "Date                                                                           \n",
       "2010-02-11        0.005786        0.013791        -0.036938        -0.042219   \n",
       "2010-02-12        0.017060        0.005786         0.013791        -0.036938   \n",
       "2010-02-16       -0.036704        0.017060         0.005786         0.013791   \n",
       "2010-02-17        0.017600       -0.036704         0.017060         0.005786   \n",
       "2010-02-18       -0.006879        0.017600        -0.036704         0.017060   \n",
       "\n",
       "            log_returns_L12  log_returns_L13  log_returns_L14  \\\n",
       "Date                                                            \n",
       "2010-02-11         0.009395         0.014009         0.026572   \n",
       "2010-02-12        -0.042219         0.009395         0.014009   \n",
       "2010-02-16        -0.036938        -0.042219         0.009395   \n",
       "2010-02-17         0.013791        -0.036938        -0.042219   \n",
       "2010-02-18         0.005786         0.013791        -0.036938   \n",
       "\n",
       "            log_returns_L15  log_returns_L16  log_returns_L17  \\\n",
       "Date                                                            \n",
       "2010-02-11        -0.050881        -0.017404        -0.015536   \n",
       "2010-02-12         0.026572        -0.050881        -0.017404   \n",
       "2010-02-16         0.014009         0.026572        -0.050881   \n",
       "2010-02-17         0.009395         0.014009         0.026572   \n",
       "2010-02-18        -0.042219         0.009395         0.014009   \n",
       "\n",
       "            log_returns_L18  log_returns_L19  \n",
       "Date                                          \n",
       "2010-02-11         0.043288        -0.016853  \n",
       "2010-02-12        -0.015536         0.043288  \n",
       "2010-02-16        -0.017404        -0.015536  \n",
       "2010-02-17        -0.050881        -0.017404  \n",
       "2010-02-18         0.026572        -0.050881  "
      ]
     },
     "execution_count": 160,
     "metadata": {},
     "output_type": "execute_result"
    }
   ],
   "source": [
    "final_df.head()"
   ]
  },
  {
   "cell_type": "code",
   "execution_count": 161,
   "metadata": {},
   "outputs": [],
   "source": [
    "# convert return into binary to format for classification\n",
    "final_df[\"y\"] = final_df.apply(lambda x: 1 if x['log_returns'] > 0 else 0 , axis=1)\n",
    "del final_df[\"log_returns\"]"
   ]
  },
  {
   "cell_type": "code",
   "execution_count": 162,
   "metadata": {},
   "outputs": [],
   "source": [
    "y = final_df.pop(\"y\")\n",
    "X = final_df"
   ]
  },
  {
   "cell_type": "code",
   "execution_count": 163,
   "metadata": {},
   "outputs": [
    {
     "name": "stdout",
     "output_type": "stream",
     "text": [
      "y shape: (171,)\n",
      "X shape: (171, 19)\n"
     ]
    }
   ],
   "source": [
    "print(\"y shape: {}\".format(y.shape))\n",
    "print(\"X shape: {}\".format(X.shape))"
   ]
  },
  {
   "cell_type": "markdown",
   "metadata": {},
   "source": [
    "### Assess distribution and statistics of data"
   ]
  },
  {
   "cell_type": "code",
   "execution_count": 164,
   "metadata": {},
   "outputs": [
    {
     "data": {
      "text/plain": [
       "<matplotlib.axes._subplots.AxesSubplot at 0x7f8fed7eb208>"
      ]
     },
     "execution_count": 164,
     "metadata": {},
     "output_type": "execute_result"
    },
    {
     "data": {
      "image/png": "[encoded data removed]",
      "text/plain": [
       "<matplotlib.figure.Figure at 0x7f8ff100acc0>"
      ]
     },
     "metadata": {},
     "output_type": "display_data"
    }
   ],
   "source": [
    "\n",
    "import seaborn as sns\n",
    "%matplotlib inline\n",
    "sns.distplot(y)"
   ]
  },
  {
   "cell_type": "code",
   "execution_count": 165,
   "metadata": {},
   "outputs": [
    {
     "data": {
      "text/plain": [
       "count    171.000000\n",
       "mean       0.590643\n",
       "std        0.493159\n",
       "min        0.000000\n",
       "25%        0.000000\n",
       "50%        1.000000\n",
       "75%        1.000000\n",
       "max        1.000000\n",
       "Name: y, dtype: float64"
      ]
     },
     "execution_count": 165,
     "metadata": {},
     "output_type": "execute_result"
    }
   ],
   "source": [
    "y.describe()"
   ]
  },
  {
   "cell_type": "code",
   "execution_count": 149,
   "metadata": {},
   "outputs": [],
   "source": [
    "train_size = int(X.shape[0]*0.9)"
   ]
  },
  {
   "cell_type": "markdown",
   "metadata": {},
   "source": [
    "### Split into train and test"
   ]
  },
  {
   "cell_type": "code",
   "execution_count": 150,
   "metadata": {},
   "outputs": [
    {
     "name": "stdout",
     "output_type": "stream",
     "text": [
      "y Train shape: (153,)\n",
      "X Train shape: (153, 19)\n",
      "y Test shape: (18,)\n",
      "X Test shape: (18, 19)\n"
     ]
    }
   ],
   "source": [
    "X_train, X_test = X.iloc[:train_size], X.iloc[train_size:]\n",
    "y_train, y_test = y[:train_size], y[train_size:]\n",
    "print(\"y Train shape: {}\".format(y_train.shape))\n",
    "print(\"X Train shape: {}\".format(X_train.shape))\n",
    "print(\"y Test shape: {}\".format(y_test.shape))\n",
    "print(\"X Test shape: {}\".format(X_test.shape))"
   ]
  },
  {
   "cell_type": "markdown",
   "metadata": {},
   "source": [
    "### Train RandomForest classifier"
   ]
  },
  {
   "cell_type": "code",
   "execution_count": 171,
   "metadata": {},
   "outputs": [
    {
     "name": "stdout",
     "output_type": "stream",
     "text": [
      "Accuracy for Random Forest Model: 61.11\n",
      "RMSE for Random Forest Model: 62.36\n"
     ]
    }
   ],
   "source": [
    "\n",
    "from sklearn.ensemble import RandomForestClassifier\n",
    "from sklearn.metrics import accuracy_score\n",
    "from sklearn.metrics import mean_squared_error\n",
    "def rmse(y_test,y_pred):\n",
    "      return np.sqrt(mean_squared_error(y_test,y_pred))\n",
    "\n",
    "rfc = RandomForestClassifier()\n",
    "rfc_model = rfc.fit(X_train, y_train)\n",
    "pred = rfc_model.predict(X_test)\n",
    "print(\"Accuracy for Random Forest Model: %.2f\" % (accuracy_score(y_test, pred) * 100))\n",
    "print(\"RMSE for Random Forest Model: %.2f\" % (rmse(y_test, pred) * 100))\n"
   ]
  },
  {
   "cell_type": "code",
   "execution_count": null,
   "metadata": {},
   "outputs": [],
   "source": []
  },
  {
   "cell_type": "code",
   "execution_count": null,
   "metadata": {},
   "outputs": [],
   "source": []
  }
 ],
 "metadata": {
  "kernelspec": {
   "display_name": "Python 3",
   "language": "python",
   "name": "python3"
  },
  "language_info": {
   "codemirror_mode": {
    "name": "ipython",
    "version": 3
   },
   "file_extension": ".py",
   "mimetype": "text/x-python",
   "name": "python",
   "nbconvert_exporter": "python",
   "pygments_lexer": "ipython3",
   "version": "3.5.2"
  }
 },
 "nbformat": 4,
 "nbformat_minor": 2
}
