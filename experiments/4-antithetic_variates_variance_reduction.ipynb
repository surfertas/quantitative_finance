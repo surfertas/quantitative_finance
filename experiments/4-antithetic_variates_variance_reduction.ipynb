{
 "cells": [
  {
   "cell_type": "code",
   "execution_count": 1,
   "metadata": {
    "collapsed": true
   },
   "outputs": [],
   "source": [
    "import numpy as np"
   ]
  },
  {
   "cell_type": "code",
   "execution_count": 2,
   "metadata": {
    "collapsed": false
   },
   "outputs": [],
   "source": [
    "np.random.seed(100)"
   ]
  },
  {
   "cell_type": "code",
   "execution_count": 3,
   "metadata": {
    "collapsed": true
   },
   "outputs": [],
   "source": [
    "# Antithetic Variates\n",
    "# https://en.wikipedia.org/wiki/Antithetic_variates\n",
    "# Idea is to replace independent Xs with negatively correlated random variables to take the covariance term\n",
    "# in the below equation to a negative value. The effect is that we have lower variance."
   ]
  },
  {
   "cell_type": "markdown",
   "metadata": {},
   "source": [
    "We can see if $Y_1$ and $Y_2$ are negatively correlated than sample variance reduces, $cov(Y_1,Y_2)$ is simply $\\rho_{Y_1Y_2}\\sigma_{Y_1}\\sigma_{Y_2}$. $$ var (\\frac{Y_1 + Y_2}{2}) = \\frac{var(Y_1) + var(Y_2) + 2cov(Y_1,Y_2)}{4}$$"
   ]
  },
  {
   "cell_type": "code",
   "execution_count": 4,
   "metadata": {
    "collapsed": false
   },
   "outputs": [
    {
     "name": "stdout",
     "output_type": "stream",
     "text": [
      "mu: 0.693173254214\n",
      "var: 0.0196051923463\n",
      "avmu: 0.693131472406\n",
      "avvar: 0.000591443846138\n"
     ]
    }
   ],
   "source": [
    "import numpy as np\n",
    "\n",
    "n = 100000\n",
    "\n",
    "fx = []\n",
    "for _ in range(n):\n",
    "    x = np.random.uniform(0,1)\n",
    "    f = 1./(1.+x)\n",
    "    fx.append(f)\n",
    "print(\"mu: {}\".format(np.mean(fx)))\n",
    "print(\"var: {}\".format(np.var(fx)))\n",
    "\n",
    "\n",
    "# Generate two samples of n/2 length where fx_ contains samples x ~ uniform(0,1) and avfx contains  1-x.\n",
    "fx_ = []\n",
    "avfx = []\n",
    "for _ in range(n/2):\n",
    "    x = np.random.uniform(0,1)\n",
    "    avx = 1.-x\n",
    "    f = 1./(1.+x)\n",
    "    avf =1./(1.+avx)\n",
    "    fx_.append(f)\n",
    "    avfx.append(avf)\n",
    "    \n",
    "\n",
    "print(\"avmu: {}\".format(0.5*(np.mean(fx_)+np.mean(avfx))))\n",
    "covm = np.cov(fx_, avfx)\n",
    "print(\"avvar: {}\".format(0.25*(covm[0,0]+covm[1,1]+2*covm[0,1])))\n"
   ]
  },
  {
   "cell_type": "markdown",
   "metadata": {
    "collapsed": true
   },
   "source": [
    "We can confirm the variance reduction viewing the statistics associated with the antithetic variance samples."
   ]
  },
  {
   "cell_type": "code",
   "execution_count": null,
   "metadata": {
    "collapsed": true
   },
   "outputs": [],
   "source": []
  }
 ],
 "metadata": {
  "kernelspec": {
   "display_name": "Python 2",
   "language": "python",
   "name": "python2"
  },
  "language_info": {
   "codemirror_mode": {
    "name": "ipython",
    "version": 2
   },
   "file_extension": ".py",
   "mimetype": "text/x-python",
   "name": "python",
   "nbconvert_exporter": "python",
   "pygments_lexer": "ipython2",
   "version": "2.7.12"
  }
 },
 "nbformat": 4,
 "nbformat_minor": 0
}
