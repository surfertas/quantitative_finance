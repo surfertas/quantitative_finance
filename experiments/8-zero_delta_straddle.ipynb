{
 "cells": [
  {
   "cell_type": "code",
   "execution_count": 1,
   "metadata": {},
   "outputs": [],
   "source": [
    "import os\n",
    "import sys\n",
    "module_path = os.path.abspath(os.path.join('..'))\n",
    "if module_path not in sys.path:\n",
    "    sys.path.append(module_path)\n",
    "\n",
    "import numpy as np\n",
    "import pandas as pd\n",
    "import scipy\n",
    "import scipy.stats as stats\n",
    "\n",
    "import matplotlib as mat\n",
    "import matplotlib.pyplot as plt\n",
    "mat.style.use('ggplot')\n",
    "\n",
    "from src.pricer.black_scholes_pricer import*\n",
    "%load_ext autoreload\n",
    "%autoreload 2\n",
    "%matplotlib inline"
   ]
  },
  {
   "cell_type": "markdown",
   "metadata": {},
   "source": [
    "Is a ATM straddle really no zero delta structure? What needs to be done to obtain a zero delta straddle?"
   ]
  },
  {
   "cell_type": "code",
   "execution_count": 2,
   "metadata": {},
   "outputs": [
    {
     "data": {
      "text/plain": [
       "array([ 4.30692698])"
      ]
     },
     "execution_count": 2,
     "metadata": {},
     "output_type": "execute_result"
    }
   ],
   "source": [
    "rf = 0.01\n",
    "T = 365\n",
    "S = np.array([100])\n",
    "X = np.array([100])\n",
    "v = 0.20\n",
    "d = 0.0\n",
    "t = 100\n",
    "op_type = \"call\"\n",
    "cpricer = BSPricer(rf,T)\n",
    "c = cpricer.price(S, X, v, d, t, op_type, True)\n",
    "c"
   ]
  },
  {
   "cell_type": "code",
   "execution_count": 3,
   "metadata": {},
   "outputs": [
    {
     "name": "stdout",
     "output_type": "stream",
     "text": [
      "1st order greeks.\n",
      "Delta:  [ 0.53129024]\n",
      "Gamma:  [ 0.03799163]\n",
      "Theta:  [-0.00843943]\n",
      "Vega:  [ 0.20817331]\n",
      "Rho:  [ 0.13375917]\n",
      "2nd order greeks.\n",
      "Vanna:  [ 0.05204333]\n",
      "Volga:  [-0.21387669]\n"
     ]
    }
   ],
   "source": [
    "cpricer.print_greeks()"
   ]
  },
  {
   "cell_type": "code",
   "execution_count": 4,
   "metadata": {},
   "outputs": [
    {
     "data": {
      "text/plain": [
       "array([ 4.03332934])"
      ]
     },
     "execution_count": 4,
     "metadata": {},
     "output_type": "execute_result"
    }
   ],
   "source": [
    "op_type = \"put\"\n",
    "ppricer = BSPricer(rf,T)\n",
    "p = ppricer.price(S, X, v, d, t, op_type, True)\n",
    "p"
   ]
  },
  {
   "cell_type": "code",
   "execution_count": 5,
   "metadata": {},
   "outputs": [
    {
     "name": "stdout",
     "output_type": "stream",
     "text": [
      "1st order greeks.\n",
      "Delta:  [-0.46870976]\n",
      "Gamma:  [ 0.03799163]\n",
      "Theta:  [-0.00296748]\n",
      "Vega:  [ 0.20817331]\n",
      "Rho:  [-0.13946385]\n",
      "2nd order greeks.\n",
      "Vanna:  [ 0.05204333]\n",
      "Volga:  [-0.21387669]\n"
     ]
    }
   ],
   "source": [
    "ppricer.print_greeks()"
   ]
  },
  {
   "cell_type": "markdown",
   "metadata": {},
   "source": [
    "Note that the ATM straddle delta is not equal to zero, which would imply that the delta of the call and put are equal."
   ]
  },
  {
   "cell_type": "code",
   "execution_count": 6,
   "metadata": {},
   "outputs": [
    {
     "name": "stdout",
     "output_type": "stream",
     "text": [
      "ATM straddle delta: 0.06258047838141656\n"
     ]
    }
   ],
   "source": [
    "atm_straddle_delta = cpricer.delta+ppricer.delta\n",
    "print(\"ATM straddle delta: {}\".format(atm_straddle_delta[0]))\n"
   ]
  },
  {
   "cell_type": "markdown",
   "metadata": {},
   "source": [
    "This is somewhat obvious as the call option is priced off the foward, where $r$ and $d$ are inputs. In this case, the continuous dividend rate, $d$, is equal to zero, while the risk free rate, $r$, is equal to $1%$ and as a result the forward rate is higher than spot. Thus in order to create a zero delta straddle we would need to adjust the strike higher. Strike (%) of zero delta straddle: $$e^{(r+0.5\\sigma^2)T}$$"
   ]
  },
  {
   "cell_type": "code",
   "execution_count": 7,
   "metadata": {},
   "outputs": [
    {
     "data": {
      "text/plain": [
       "1.0155998793532353"
      ]
     },
     "execution_count": 7,
     "metadata": {},
     "output_type": "execute_result"
    }
   ],
   "source": [
    "zero_delta_strike_percentage = np.exp(rf+0.5*(v**2)*(float(t/T)))\n",
    "zero_delta_strike_percentage"
   ]
  },
  {
   "cell_type": "markdown",
   "metadata": {},
   "source": [
    "Thus we need to increase the strike by 1.0155998793532353%"
   ]
  },
  {
   "cell_type": "code",
   "execution_count": 8,
   "metadata": {},
   "outputs": [
    {
     "name": "stdout",
     "output_type": "stream",
     "text": [
      "[ 0.49281459]\n",
      "[-0.50718541]\n"
     ]
    }
   ],
   "source": [
    "rf = 0.01\n",
    "T = 365\n",
    "S = np.array([100])\n",
    "X = np.array([101.01559987935325])\n",
    "v = 0.20\n",
    "d = 0.0\n",
    "t = 100\n",
    "op_type = \"call\"\n",
    "cpricer_zd = BSPricer(rf,T)\n",
    "c = cpricer_zd.price(S, X, v, d, t, op_type, True)\n",
    "print(cpricer_zd.delta)\n",
    "op_type = \"put\"\n",
    "ppricer_zd = BSPricer(rf,T)\n",
    "p = ppricer_zd.price(S, X, v, d, t, op_type, True)\n",
    "print(ppricer_zd.delta)"
   ]
  },
  {
   "cell_type": "code",
   "execution_count": 9,
   "metadata": {},
   "outputs": [
    {
     "name": "stdout",
     "output_type": "stream",
     "text": [
      "ATM straddle delta: -0.014370816862032731\n"
     ]
    }
   ],
   "source": [
    "atm_straddle_maybe_zero_delta = cpricer_zd.delta+ppricer_zd.delta\n",
    "print(\"ATM straddle delta: {}\".format(atm_straddle_maybe_zero_delta[0]))\n"
   ]
  },
  {
   "cell_type": "markdown",
   "metadata": {},
   "source": [
    "Not exactly zero, but the difference can be attributed to model specification and rounding. The general concept holds that an ATM straddle is not zero delta, and a strike shift higher is required, assuming that $rate$ > $dividend$."
   ]
  },
  {
   "cell_type": "code",
   "execution_count": null,
   "metadata": {},
   "outputs": [],
   "source": []
  }
 ],
 "metadata": {
  "kernelspec": {
   "display_name": "Python 3",
   "language": "python",
   "name": "python3"
  },
  "language_info": {
   "codemirror_mode": {
    "name": "ipython",
    "version": 3
   },
   "file_extension": ".py",
   "mimetype": "text/x-python",
   "name": "python",
   "nbconvert_exporter": "python",
   "pygments_lexer": "ipython3",
   "version": "3.5.2"
  }
 },
 "nbformat": 4,
 "nbformat_minor": 2
}
