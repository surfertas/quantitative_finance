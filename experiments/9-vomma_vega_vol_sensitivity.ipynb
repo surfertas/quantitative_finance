{
 "cells": [
  {
   "cell_type": "code",
   "execution_count": 1,
   "metadata": {},
   "outputs": [],
   "source": [
    "import os\n",
    "import sys\n",
    "module_path = os.path.abspath(os.path.join('..'))\n",
    "if module_path not in sys.path:\n",
    "    sys.path.append(module_path)\n",
    "\n",
    "import numpy as np\n",
    "import pandas as pd\n",
    "\n",
    "import matplotlib as mat\n",
    "import matplotlib.pyplot as plt\n",
    "mat.style.use('ggplot')\n",
    "\n",
    "from src.pricer.black_scholes_pricer import*\n",
    "%load_ext autoreload\n",
    "%autoreload 2\n",
    "%matplotlib inline"
   ]
  },
  {
   "cell_type": "markdown",
   "metadata": {},
   "source": [
    "Confirm that the vega of an OTM option converges towards the vega exposure found at the peak (ATM) as vols increase. "
   ]
  },
  {
   "cell_type": "code",
   "execution_count": 2,
   "metadata": {},
   "outputs": [
    {
     "data": {
      "text/plain": [
       "array([ 4.30692698])"
      ]
     },
     "execution_count": 2,
     "metadata": {},
     "output_type": "execute_result"
    }
   ],
   "source": [
    "rf = 0.01\n",
    "T = 365\n",
    "S = np.array([100])\n",
    "X = np.array([100])\n",
    "v = 0.20\n",
    "d = 0.0\n",
    "t = 100\n",
    "op_type = \"call\"\n",
    "atm_cpricer = BSPricer(rf,T)\n",
    "c = atm_cpricer.price(S, X, v, d, t, op_type, True)\n",
    "c"
   ]
  },
  {
   "cell_type": "code",
   "execution_count": 3,
   "metadata": {},
   "outputs": [
    {
     "name": "stdout",
     "output_type": "stream",
     "text": [
      "Vega of an ATM call: [ 0.20817331]\n"
     ]
    }
   ],
   "source": [
    "print(\"Vega of an ATM call: {}\".format(atm_cpricer.vega))\n",
    "# We should see the OTM vega exposure converge towards ATM vega exposure as vols increase.\n"
   ]
  },
  {
   "cell_type": "code",
   "execution_count": 4,
   "metadata": {},
   "outputs": [
    {
     "data": {
      "text/plain": [
       "array([ 1.13231248])"
      ]
     },
     "execution_count": 4,
     "metadata": {},
     "output_type": "execute_result"
    }
   ],
   "source": [
    "rf = 0.01\n",
    "T = 365\n",
    "S = np.array([100])\n",
    "X = np.array([110])\n",
    "v = 0.20\n",
    "d = 0.0\n",
    "t = 100\n",
    "op_type = \"call\"\n",
    "otm_cpricer = BSPricer(rf,T)\n",
    "c = otm_cpricer.price(S, X, v, d, t, op_type, True)\n",
    "c"
   ]
  },
  {
   "cell_type": "code",
   "execution_count": 5,
   "metadata": {},
   "outputs": [
    {
     "data": {
      "text/plain": [
       "[<matplotlib.lines.Line2D at 0x7f700a8929d0>]"
      ]
     },
     "execution_count": 5,
     "metadata": {},
     "output_type": "execute_result"
    },
    {
     "data": {
      "image/png": "[encoded data removed]",
      "text/plain": [
       "<matplotlib.figure.Figure at 0x7f700c959210>"
      ]
     },
     "metadata": {},
     "output_type": "display_data"
    }
   ],
   "source": [
    "vols = (np.arange(1,50)/100.)\n",
    "vegas = []\n",
    "for vol in vols:\n",
    "    otm_cpricer.price(S, X, vol, d, t, op_type, True)\n",
    "    vegas.append(otm_cpricer.vega[0])\n",
    "\n",
    "    \n",
    "plt.plot(vols,vegas)"
   ]
  },
  {
   "cell_type": "markdown",
   "metadata": {},
   "source": [
    "DvegaDvol, Volga, Vomma, is the slope of the above plot. We can see that slope is steepest between 0.05 and .20 and starts to flatten out. We can also see that the slope is mostly positive, while flat for low vol levels. Intuitively this make sense as well, as if hypothetically vols go to infinity, all strikes will be effectively ATM, thus the ATM vega acting as an upperbound is acceptable."
   ]
  },
  {
   "cell_type": "code",
   "execution_count": null,
   "metadata": {},
   "outputs": [],
   "source": []
  }
 ],
 "metadata": {
  "kernelspec": {
   "display_name": "Python 2",
   "language": "python",
   "name": "python2"
  },
  "language_info": {
   "codemirror_mode": {
    "name": "ipython",
    "version": 2
   },
   "file_extension": ".py",
   "mimetype": "text/x-python",
   "name": "python",
   "nbconvert_exporter": "python",
   "pygments_lexer": "ipython2",
   "version": "2.7.12"
  }
 },
 "nbformat": 4,
 "nbformat_minor": 2
}
