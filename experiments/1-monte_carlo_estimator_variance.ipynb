{
 "cells": [
  {
   "cell_type": "code",
   "execution_count": 2,
   "metadata": {
    "collapsed": false
   },
   "outputs": [],
   "source": [
    "#https://stackoverflow.com/questions/34478398/import-local-function-from-a-module-housed-in-another-directory-with-relative-im\n",
    "import os\n",
    "import sys\n",
    "module_path = os.path.abspath(os.path.join('..'))\n",
    "if module_path not in sys.path:\n",
    "    sys.path.append(module_path)\n",
    "    \n",
    "import numpy as np\n",
    "import pandas as pd\n",
    "import scipy\n",
    "import scipy.stats as stats\n",
    "\n",
    "import matplotlib as mat\n",
    "import matplotlib.pyplot as plt\n",
    "mat.style.use('ggplot')\n",
    "\n",
    "from src.pricer.monte_carlo_pricer import*\n",
    "%load_ext autoreload\n",
    "%autoreload 2\n",
    "%matplotlib inline"
   ]
  },
  {
   "cell_type": "code",
   "execution_count": 3,
   "metadata": {
    "collapsed": false
   },
   "outputs": [],
   "source": [
    "np.random.seed(100)"
   ]
  },
  {
   "cell_type": "markdown",
   "metadata": {},
   "source": [
    "Q: How does the number of trials impact the variance of the estimator of the true mean. \n",
    "\n",
    "The variance of the estimator is know to decrease as the number of trials increase. We test this by running 100 episodes for trial size starting from 1000 to 15000 in increments of 1000. We should be able to observe a decrease in the variance of the estimator as we try larger trial sizes.\n",
    "\n",
    "Note that the Monte Carlo Pricer is using a weiner process $S_{T} = S_{t}e^{(r-0.5\\sigma^2)(\\frac{1}{T})+\\sigma \\sqrt{\\frac{1}{T}}\\epsilon}$ where $\\epsilon$ is sampling from a standardized normal distribution."
   ]
  },
  {
   "cell_type": "code",
   "execution_count": 4,
   "metadata": {
    "collapsed": false
   },
   "outputs": [],
   "source": [
    "S,X,t,T,v,r,d = (100.0, 110.0, 100, 365, 0.20, 0.01, 0.00)"
   ]
  },
  {
   "cell_type": "code",
   "execution_count": 5,
   "metadata": {
    "collapsed": false
   },
   "outputs": [
    {
     "name": "stdout",
     "output_type": "stream",
     "text": [
      "Initialized MC Pricer\n"
     ]
    }
   ],
   "source": [
    "MC = MCPricer(S, r,\"normal\", T=T)\n",
    "nmcps = []\n",
    "for n in range(100,15000,1000):\n",
    "    mcps = []\n",
    "    for i in range(100):\n",
    "        MC.simulate(n,t,v)\n",
    "        mcp = MC.price(110)\n",
    "        mcps.append(mcp)\n",
    "        MC.reset_state()\n",
    "    nmcps.append(mcps)\n",
    "    "
   ]
  },
  {
   "cell_type": "markdown",
   "metadata": {},
   "source": [
    "The box plot doesnt visually show the exact variance, but we can clearly see the ranges of the computed means increasing as the number of trials increases."
   ]
  },
  {
   "cell_type": "code",
   "execution_count": 6,
   "metadata": {
    "collapsed": false
   },
   "outputs": [
    {
     "data": {
      "text/plain": [
       "<matplotlib.axes._subplots.AxesSubplot at 0x7f6e13fbcbd0>"
      ]
     },
     "execution_count": 6,
     "metadata": {},
     "output_type": "execute_result"
    },
    {
     "data": {
      "image/png": "[encoded data removed]",
      "text/plain": [
       "<matplotlib.figure.Figure at 0x7f6e18246ed0>"
      ]
     },
     "metadata": {},
     "output_type": "display_data"
    }
   ],
   "source": [
    "# https://stackoverflow.com/questions/12082568/what-exactly-do-the-whiskers-in-pandas-boxplots-specify\n",
    "df = pd.DataFrame(columns=range(15))\n",
    "for i,mcps in enumerate(nmcps):\n",
    "    df.loc[:,i] = mcps\n",
    "df.plot.box()\n"
   ]
  },
  {
   "cell_type": "markdown",
   "metadata": {},
   "source": [
    "We can also see the variance of the computed means decrease as number of trials increase."
   ]
  },
  {
   "cell_type": "code",
   "execution_count": 7,
   "metadata": {
    "collapsed": false
   },
   "outputs": [
    {
     "data": {
      "text/plain": [
       "0     0.101015\n",
       "1     0.010414\n",
       "2     0.005689\n",
       "3     0.004262\n",
       "4     0.002908\n",
       "5     0.001886\n",
       "6     0.001740\n",
       "7     0.001515\n",
       "8     0.001545\n",
       "9     0.001180\n",
       "10    0.001030\n",
       "11    0.001057\n",
       "12    0.001154\n",
       "13    0.001248\n",
       "14    0.000897\n",
       "dtype: float64"
      ]
     },
     "execution_count": 7,
     "metadata": {},
     "output_type": "execute_result"
    }
   ],
   "source": [
    "df.var()"
   ]
  },
  {
   "cell_type": "code",
   "execution_count": null,
   "metadata": {
    "collapsed": true
   },
   "outputs": [],
   "source": []
  }
 ],
 "metadata": {
  "kernelspec": {
   "display_name": "Python 2",
   "language": "python",
   "name": "python2"
  },
  "language_info": {
   "codemirror_mode": {
    "name": "ipython",
    "version": 2
   },
   "file_extension": ".py",
   "mimetype": "text/x-python",
   "name": "python",
   "nbconvert_exporter": "python",
   "pygments_lexer": "ipython2",
   "version": "2.7.12"
  }
 },
 "nbformat": 4,
 "nbformat_minor": 0
}
